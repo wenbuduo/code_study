{
 "cells": [
  {
   "cell_type": "code",
   "execution_count": 1,
   "metadata": {
    "collapsed": true,
    "ExecuteTime": {
     "end_time": "2024-03-16T05:18:22.697994Z",
     "start_time": "2024-03-16T05:18:22.450538Z"
    }
   },
   "outputs": [],
   "source": [
    "import pandas as pd\n",
    "import numpy as np\n",
    "user_table = pd.read_csv('./Dataset/userlist_table.csv')\n",
    "serv_table = pd.read_csv('./Dataset/wslist_table.csv')\n",
    "density = 0.01"
   ]
  },
  {
   "cell_type": "code",
   "execution_count": 2,
   "outputs": [],
   "source": [
    "def multi_hot(len, idx):\n",
    "    vec = [0.] * len\n",
    "    for id in idx:\n",
    "        vec[id] = 1.\n",
    "    return vec\n",
    "\n",
    "Uctx2Idx = {}\n",
    "Idx2Uctx = {}\n",
    "uidx = 0\n",
    "usrc = []\n",
    "udst = []\n",
    "\n",
    "ufeats = []\n",
    "\n",
    "for idx, item in list(user_table.iterrows()):\n",
    "    UserID = item['[User ID]']\n",
    "    Country = item['[Country]']\n",
    "    AS = item['[AS]']\n",
    "\n",
    "    if Country not in Uctx2Idx:\n",
    "        Uctx2Idx[Country] = uidx\n",
    "        Idx2Uctx[uidx] = Country\n",
    "        uidx += 1\n",
    "\n",
    "    if AS not in Uctx2Idx:\n",
    "        Uctx2Idx[AS] = uidx\n",
    "        Idx2Uctx[uidx] = AS\n",
    "        uidx += 1\n",
    "\n",
    "    Country = Uctx2Idx[Country]\n",
    "    AS = Uctx2Idx[AS]\n",
    "\n",
    "    usrc.append(UserID)\n",
    "    udst.append(Country)\n",
    "\n",
    "    usrc.append(UserID)\n",
    "    udst.append(AS)\n",
    "    ufeats.append(multi_hot(200, [Country, AS]))\n",
    "\n",
    "Sctx2Idx = {}\n",
    "Idx2Sctx = {}\n",
    "sidx = 0\n",
    "ssrc = []\n",
    "sdst = []\n",
    "sfeats = []\n",
    "for row in list(serv_table.iterrows()):\n",
    "    row = row[1]\n",
    "    ServID = row['[Service ID]']\n",
    "    Country = row['[Country]']\n",
    "    AS = row['[AS]']\n",
    "    Provider = row['[Service Provider]']\n",
    "\n",
    "    if Country not in Sctx2Idx:\n",
    "        Sctx2Idx[Country] = sidx\n",
    "        Idx2Sctx[sidx] = Country\n",
    "        sidx += 1\n",
    "\n",
    "    if AS not in Sctx2Idx:\n",
    "        Sctx2Idx[AS] = sidx\n",
    "        Idx2Sctx[sidx] = AS\n",
    "        sidx += 1\n",
    "\n",
    "    if Provider not in Sctx2Idx:\n",
    "        Sctx2Idx[Provider] = sidx\n",
    "        Idx2Sctx[sidx] = Provider\n",
    "        sidx += 1\n",
    "\n",
    "    Country = Sctx2Idx[Country]\n",
    "    AS = Sctx2Idx[AS]\n",
    "    Provider = Sctx2Idx[Provider]\n",
    "\n",
    "    ssrc.append(ServID)\n",
    "    sdst.append(Country)\n",
    "\n",
    "    ssrc.append(ServID)\n",
    "    sdst.append(AS)\n",
    "\n",
    "    ssrc.append(ServID)\n",
    "    sdst.append(Provider)\n",
    "    sfeats.append(multi_hot(3800, [Country, AS, Provider]))"
   ],
   "metadata": {
    "collapsed": false,
    "ExecuteTime": {
     "end_time": "2024-03-16T05:18:23.060633Z",
     "start_time": "2024-03-16T05:18:22.700002Z"
    }
   }
  },
  {
   "cell_type": "code",
   "execution_count": 3,
   "outputs": [
    {
     "name": "stderr",
     "output_type": "stream",
     "text": [
      "100%|██████████| 339/339 [00:02<00:00, 133.63it/s]\n"
     ]
    }
   ],
   "source": [
    "from tqdm import *\n",
    "rtMatrix = np.loadtxt('./Dataset/rtMatrix.txt')\n",
    "tpMatrix = np.loadtxt('./Dataset/tpMatrix.txt')\n",
    "\n",
    "# Filtering the invalid entries.\n",
    "msrc, mdst = [], []\n",
    "\n",
    "rts = []\n",
    "tps = []\n",
    "srcx = []\n",
    "dstx = []\n",
    "\n",
    "# 建立总图\n",
    "for i in trange(339):\n",
    "    for j in range(5825):\n",
    "        if 0 < rtMatrix[i][j] < 19.9 and 0 < tpMatrix[i][j] < 1000:\n",
    "            msrc.append(i)\n",
    "            mdst.append(j)\n",
    "            rts.append(rtMatrix[i][j])\n",
    "            tps.append(tpMatrix[i][j])"
   ],
   "metadata": {
    "collapsed": false,
    "ExecuteTime": {
     "end_time": "2024-03-16T05:18:26.672048Z",
     "start_time": "2024-03-16T05:18:23.048727Z"
    }
   }
  },
  {
   "cell_type": "markdown",
   "source": [
    "# 准备建图"
   ],
   "metadata": {
    "collapsed": false
   }
  },
  {
   "cell_type": "code",
   "execution_count": 4,
   "outputs": [
    {
     "data": {
      "text/plain": "(678, 678, 1827436, 1827436)"
     },
     "execution_count": 4,
     "metadata": {},
     "output_type": "execute_result"
    }
   ],
   "source": [
    "\"\"\"\n",
    "    usrc: 用户索引\n",
    "    udst: 地址索引\n",
    "    ssrc: 服务索引\n",
    "    sdst: 服务地址\n",
    "    msrc：用户\n",
    "    mdst：服务\n",
    "\"\"\"\n",
    "len(usrc), len(udst), len(msrc), len(mdst)\n"
   ],
   "metadata": {
    "collapsed": false,
    "ExecuteTime": {
     "end_time": "2024-03-16T05:18:26.681141Z",
     "start_time": "2024-03-16T05:18:26.676005Z"
    }
   }
  },
  {
   "cell_type": "code",
   "outputs": [
    {
     "data": {
      "text/plain": "[0,\n 0,\n 1,\n 1,\n 2,\n 2,\n 3,\n 3,\n 4,\n 4,\n 5,\n 5,\n 6,\n 6,\n 7,\n 7,\n 8,\n 8,\n 9,\n 9,\n 10,\n 10,\n 11,\n 11,\n 12,\n 12,\n 13,\n 13,\n 14,\n 14,\n 15,\n 15,\n 16,\n 16,\n 17,\n 17,\n 18,\n 18,\n 19,\n 19,\n 20,\n 20,\n 21,\n 21,\n 22,\n 22,\n 23,\n 23,\n 24,\n 24,\n 25,\n 25,\n 26,\n 26,\n 27,\n 27,\n 28,\n 28,\n 29,\n 29,\n 30,\n 30,\n 31,\n 31,\n 32,\n 32,\n 33,\n 33,\n 34,\n 34,\n 35,\n 35,\n 36,\n 36,\n 37,\n 37,\n 38,\n 38,\n 39,\n 39,\n 40,\n 40,\n 41,\n 41,\n 42,\n 42,\n 43,\n 43,\n 44,\n 44,\n 45,\n 45,\n 46,\n 46,\n 47,\n 47,\n 48,\n 48,\n 49,\n 49,\n 50,\n 50,\n 51,\n 51,\n 52,\n 52,\n 53,\n 53,\n 54,\n 54,\n 55,\n 55,\n 56,\n 56,\n 57,\n 57,\n 58,\n 58,\n 59,\n 59,\n 60,\n 60,\n 61,\n 61,\n 62,\n 62,\n 63,\n 63,\n 64,\n 64,\n 65,\n 65,\n 66,\n 66,\n 67,\n 67,\n 68,\n 68,\n 69,\n 69,\n 70,\n 70,\n 71,\n 71,\n 72,\n 72,\n 73,\n 73,\n 74,\n 74,\n 75,\n 75,\n 76,\n 76,\n 77,\n 77,\n 78,\n 78,\n 79,\n 79,\n 80,\n 80,\n 81,\n 81,\n 82,\n 82,\n 83,\n 83,\n 84,\n 84,\n 85,\n 85,\n 86,\n 86,\n 87,\n 87,\n 88,\n 88,\n 89,\n 89,\n 90,\n 90,\n 91,\n 91,\n 92,\n 92,\n 93,\n 93,\n 94,\n 94,\n 95,\n 95,\n 96,\n 96,\n 97,\n 97,\n 98,\n 98,\n 99,\n 99,\n 100,\n 100,\n 101,\n 101,\n 102,\n 102,\n 103,\n 103,\n 104,\n 104,\n 105,\n 105,\n 106,\n 106,\n 107,\n 107,\n 108,\n 108,\n 109,\n 109,\n 110,\n 110,\n 111,\n 111,\n 112,\n 112,\n 113,\n 113,\n 114,\n 114,\n 115,\n 115,\n 116,\n 116,\n 117,\n 117,\n 118,\n 118,\n 119,\n 119,\n 120,\n 120,\n 121,\n 121,\n 122,\n 122,\n 123,\n 123,\n 124,\n 124,\n 125,\n 125,\n 126,\n 126,\n 127,\n 127,\n 128,\n 128,\n 129,\n 129,\n 130,\n 130,\n 131,\n 131,\n 132,\n 132,\n 133,\n 133,\n 134,\n 134,\n 135,\n 135,\n 136,\n 136,\n 137,\n 137,\n 138,\n 138,\n 139,\n 139,\n 140,\n 140,\n 141,\n 141,\n 142,\n 142,\n 143,\n 143,\n 144,\n 144,\n 145,\n 145,\n 146,\n 146,\n 147,\n 147,\n 148,\n 148,\n 149,\n 149,\n 150,\n 150,\n 151,\n 151,\n 152,\n 152,\n 153,\n 153,\n 154,\n 154,\n 155,\n 155,\n 156,\n 156,\n 157,\n 157,\n 158,\n 158,\n 159,\n 159,\n 160,\n 160,\n 161,\n 161,\n 162,\n 162,\n 163,\n 163,\n 164,\n 164,\n 165,\n 165,\n 166,\n 166,\n 167,\n 167,\n 168,\n 168,\n 169,\n 169,\n 170,\n 170,\n 171,\n 171,\n 172,\n 172,\n 173,\n 173,\n 174,\n 174,\n 175,\n 175,\n 176,\n 176,\n 177,\n 177,\n 178,\n 178,\n 179,\n 179,\n 180,\n 180,\n 181,\n 181,\n 182,\n 182,\n 183,\n 183,\n 184,\n 184,\n 185,\n 185,\n 186,\n 186,\n 187,\n 187,\n 188,\n 188,\n 189,\n 189,\n 190,\n 190,\n 191,\n 191,\n 192,\n 192,\n 193,\n 193,\n 194,\n 194,\n 195,\n 195,\n 196,\n 196,\n 197,\n 197,\n 198,\n 198,\n 199,\n 199,\n 200,\n 200,\n 201,\n 201,\n 202,\n 202,\n 203,\n 203,\n 204,\n 204,\n 205,\n 205,\n 206,\n 206,\n 207,\n 207,\n 208,\n 208,\n 209,\n 209,\n 210,\n 210,\n 211,\n 211,\n 212,\n 212,\n 213,\n 213,\n 214,\n 214,\n 215,\n 215,\n 216,\n 216,\n 217,\n 217,\n 218,\n 218,\n 219,\n 219,\n 220,\n 220,\n 221,\n 221,\n 222,\n 222,\n 223,\n 223,\n 224,\n 224,\n 225,\n 225,\n 226,\n 226,\n 227,\n 227,\n 228,\n 228,\n 229,\n 229,\n 230,\n 230,\n 231,\n 231,\n 232,\n 232,\n 233,\n 233,\n 234,\n 234,\n 235,\n 235,\n 236,\n 236,\n 237,\n 237,\n 238,\n 238,\n 239,\n 239,\n 240,\n 240,\n 241,\n 241,\n 242,\n 242,\n 243,\n 243,\n 244,\n 244,\n 245,\n 245,\n 246,\n 246,\n 247,\n 247,\n 248,\n 248,\n 249,\n 249,\n 250,\n 250,\n 251,\n 251,\n 252,\n 252,\n 253,\n 253,\n 254,\n 254,\n 255,\n 255,\n 256,\n 256,\n 257,\n 257,\n 258,\n 258,\n 259,\n 259,\n 260,\n 260,\n 261,\n 261,\n 262,\n 262,\n 263,\n 263,\n 264,\n 264,\n 265,\n 265,\n 266,\n 266,\n 267,\n 267,\n 268,\n 268,\n 269,\n 269,\n 270,\n 270,\n 271,\n 271,\n 272,\n 272,\n 273,\n 273,\n 274,\n 274,\n 275,\n 275,\n 276,\n 276,\n 277,\n 277,\n 278,\n 278,\n 279,\n 279,\n 280,\n 280,\n 281,\n 281,\n 282,\n 282,\n 283,\n 283,\n 284,\n 284,\n 285,\n 285,\n 286,\n 286,\n 287,\n 287,\n 288,\n 288,\n 289,\n 289,\n 290,\n 290,\n 291,\n 291,\n 292,\n 292,\n 293,\n 293,\n 294,\n 294,\n 295,\n 295,\n 296,\n 296,\n 297,\n 297,\n 298,\n 298,\n 299,\n 299,\n 300,\n 300,\n 301,\n 301,\n 302,\n 302,\n 303,\n 303,\n 304,\n 304,\n 305,\n 305,\n 306,\n 306,\n 307,\n 307,\n 308,\n 308,\n 309,\n 309,\n 310,\n 310,\n 311,\n 311,\n 312,\n 312,\n 313,\n 313,\n 314,\n 314,\n 315,\n 315,\n 316,\n 316,\n 317,\n 317,\n 318,\n 318,\n 319,\n 319,\n 320,\n 320,\n 321,\n 321,\n 322,\n 322,\n 323,\n 323,\n 324,\n 324,\n 325,\n 325,\n 326,\n 326,\n 327,\n 327,\n 328,\n 328,\n 329,\n 329,\n 330,\n 330,\n 331,\n 331,\n 332,\n 332,\n 333,\n 333,\n 334,\n 334,\n 335,\n 335,\n 336,\n 336,\n 337,\n 337,\n 338,\n 338]"
     },
     "execution_count": 5,
     "metadata": {},
     "output_type": "execute_result"
    }
   ],
   "source": [
    "usrc"
   ],
   "metadata": {
    "collapsed": false,
    "ExecuteTime": {
     "end_time": "2024-03-16T05:18:26.686080Z",
     "start_time": "2024-03-16T05:18:26.682723Z"
    }
   },
   "execution_count": 5
  },
  {
   "cell_type": "code",
   "execution_count": 6,
   "outputs": [
    {
     "data": {
      "text/plain": "dict_keys([('uctx', 'cu', 'user'), ('user', 'uc', 'uctx'), ('sctx', 'cs', 'serv'), ('serv', 'sc', 'sctx'), ('user', 'us', 'serv'), ('serv', 'su', 'user')])"
     },
     "execution_count": 6,
     "metadata": {},
     "output_type": "execute_result"
    }
   ],
   "source": [
    "data_dict = {\n",
    "        ('uctx', 'cu', 'user'): (udst, usrc),\n",
    "        ('user', 'uc', 'uctx'): (usrc, udst),\n",
    "        ('sctx', 'cs', 'serv'): (sdst, ssrc),\n",
    "        ('serv', 'sc', 'sctx'): (ssrc, sdst),\n",
    "        ('user', 'us', 'serv'): (msrc, mdst),\n",
    "        ('serv', 'su', 'user'): (mdst, msrc)\n",
    "}\n",
    "data_dict.keys()"
   ],
   "metadata": {
    "collapsed": false,
    "ExecuteTime": {
     "end_time": "2024-03-16T05:18:26.689889Z",
     "start_time": "2024-03-16T05:18:26.687115Z"
    }
   }
  },
  {
   "cell_type": "code",
   "execution_count": 7,
   "outputs": [
    {
     "data": {
      "text/plain": "Graph(num_nodes={'sctx': 3766, 'serv': 5825, 'uctx': 168, 'user': 339},\n      num_edges={('sctx', 'cs', 'serv'): 17475, ('serv', 'sc', 'sctx'): 17475, ('serv', 'su', 'user'): 1827436, ('uctx', 'cu', 'user'): 678, ('user', 'uc', 'uctx'): 678, ('user', 'us', 'serv'): 1827436},\n      metagraph=[('sctx', 'serv', 'cs'), ('serv', 'sctx', 'sc'), ('serv', 'user', 'su'), ('user', 'uctx', 'uc'), ('user', 'serv', 'us'), ('uctx', 'user', 'cu')])"
     },
     "execution_count": 7,
     "metadata": {},
     "output_type": "execute_result"
    }
   ],
   "source": [
    "import dgl as d\n",
    "graph = d.heterograph(data_dict=data_dict)\n",
    "graph"
   ],
   "metadata": {
    "collapsed": false,
    "ExecuteTime": {
     "end_time": "2024-03-16T05:18:28.832029Z",
     "start_time": "2024-03-16T05:18:26.689526Z"
    }
   }
  },
  {
   "cell_type": "code",
   "execution_count": 8,
   "outputs": [
    {
     "data": {
      "text/plain": "dict_keys([])"
     },
     "execution_count": 8,
     "metadata": {},
     "output_type": "execute_result"
    }
   ],
   "source": [
    "graph.ndata.keys()"
   ],
   "metadata": {
    "collapsed": false,
    "ExecuteTime": {
     "end_time": "2024-03-16T05:18:28.841614Z",
     "start_time": "2024-03-16T05:18:28.833651Z"
    }
   }
  },
  {
   "cell_type": "code",
   "execution_count": 9,
   "outputs": [
    {
     "data": {
      "text/plain": "dict_keys([])"
     },
     "execution_count": 9,
     "metadata": {},
     "output_type": "execute_result"
    }
   ],
   "source": [
    "graph.edata.keys()"
   ],
   "metadata": {
    "collapsed": false,
    "ExecuteTime": {
     "end_time": "2024-03-16T05:18:28.842700Z",
     "start_time": "2024-03-16T05:18:28.836904Z"
    }
   }
  },
  {
   "cell_type": "code",
   "outputs": [
    {
     "data": {
      "text/plain": "array([[1, 2],\n       [3, 4],\n       [2, 1],\n       [4, 3]])"
     },
     "execution_count": 10,
     "metadata": {},
     "output_type": "execute_result"
    }
   ],
   "source": [
    "np.array([\n",
    "    [1, 2],\n",
    "    [3, 4],\n",
    "    [2, 1],\n",
    "    [4, 3]\n",
    "])"
   ],
   "metadata": {
    "collapsed": false,
    "ExecuteTime": {
     "end_time": "2024-03-16T05:18:28.846276Z",
     "start_time": "2024-03-16T05:18:28.840444Z"
    }
   },
   "execution_count": 10
  },
  {
   "cell_type": "code",
   "execution_count": 11,
   "outputs": [
    {
     "data": {
      "text/plain": "Graph(num_nodes={'sctx': 3766, 'serv': 5825, 'uctx': 168, 'user': 339},\n      num_edges={('sctx', 'cs', 'serv'): 17475, ('serv', 'sc', 'sctx'): 17475, ('serv', 'su', 'user'): 1827436, ('uctx', 'cu', 'user'): 678, ('user', 'uc', 'uctx'): 678, ('user', 'us', 'serv'): 1827436},\n      metagraph=[('sctx', 'serv', 'cs'), ('serv', 'sctx', 'sc'), ('serv', 'user', 'su'), ('user', 'uctx', 'uc'), ('user', 'serv', 'us'), ('uctx', 'user', 'cu')])"
     },
     "execution_count": 11,
     "metadata": {},
     "output_type": "execute_result"
    }
   ],
   "source": [
    "import torch as t\n",
    "RTValue = t.tensor(rts).float()\n",
    "TPValue = t.tensor(tps).float()\n",
    "\n",
    "graph.edata['RT'] = {('user', 'us', 'serv'): RTValue,\n",
    "                     ('serv', 'su', 'user'): RTValue}\n",
    "\n",
    "# graph.edata['TP'] = {('user', 'us', 'serv'): TPValue,\n",
    "#                      ('serv', 'su', 'user'): TPValue}\n",
    "graph"
   ],
   "metadata": {
    "collapsed": false,
    "ExecuteTime": {
     "end_time": "2024-03-16T05:18:29.477893Z",
     "start_time": "2024-03-16T05:18:29.156443Z"
    }
   }
  },
  {
   "cell_type": "code",
   "execution_count": 12,
   "outputs": [
    {
     "data": {
      "text/plain": "(dict_keys([]), dict_keys(['RT']))"
     },
     "execution_count": 12,
     "metadata": {},
     "output_type": "execute_result"
    }
   ],
   "source": [
    "graph.ndata.keys(), graph.edata.keys()"
   ],
   "metadata": {
    "collapsed": false,
    "ExecuteTime": {
     "end_time": "2024-03-16T05:18:29.481569Z",
     "start_time": "2024-03-16T05:18:29.478590Z"
    }
   }
  },
  {
   "cell_type": "code",
   "outputs": [
    {
     "data": {
      "text/plain": "torch.Size([1827436])"
     },
     "execution_count": 13,
     "metadata": {},
     "output_type": "execute_result"
    }
   ],
   "source": [
    "# graph.edata['RT'][('user', 'us', 'serv')].shape\n",
    "graph.edata['RT'][('serv', 'su', 'user')].shape"
   ],
   "metadata": {
    "collapsed": false,
    "ExecuteTime": {
     "end_time": "2024-03-16T05:18:29.483914Z",
     "start_time": "2024-03-16T05:18:29.481735Z"
    }
   },
   "execution_count": 13
  },
  {
   "cell_type": "code",
   "execution_count": 14,
   "outputs": [
    {
     "data": {
      "text/plain": "(list, 339, 200)"
     },
     "execution_count": 14,
     "metadata": {},
     "output_type": "execute_result"
    }
   ],
   "source": [
    "type(ufeats), len(ufeats), len(ufeats[0])  # ufeats 是 one hot 编码"
   ],
   "metadata": {
    "collapsed": false,
    "ExecuteTime": {
     "end_time": "2024-03-16T05:18:29.487398Z",
     "start_time": "2024-03-16T05:18:29.484840Z"
    }
   }
  },
  {
   "cell_type": "code",
   "execution_count": 15,
   "outputs": [
    {
     "data": {
      "text/plain": "Graph(num_nodes={'sctx': 3766, 'serv': 5825, 'uctx': 168, 'user': 339},\n      num_edges={('sctx', 'cs', 'serv'): 17475, ('serv', 'sc', 'sctx'): 17475, ('serv', 'su', 'user'): 1827436, ('uctx', 'cu', 'user'): 678, ('user', 'uc', 'uctx'): 678, ('user', 'us', 'serv'): 1827436},\n      metagraph=[('sctx', 'serv', 'cs'), ('serv', 'sctx', 'sc'), ('serv', 'user', 'su'), ('user', 'uctx', 'uc'), ('user', 'serv', 'us'), ('uctx', 'user', 'cu')])"
     },
     "execution_count": 15,
     "metadata": {},
     "output_type": "execute_result"
    }
   ],
   "source": [
    "graph.ndata['x'] = {\n",
    "    'user': t.tensor(ufeats),\n",
    "    'serv': t.tensor(sfeats)\n",
    "}\n",
    "graph"
   ],
   "metadata": {
    "collapsed": false,
    "ExecuteTime": {
     "end_time": "2024-03-16T05:18:31.505539Z",
     "start_time": "2024-03-16T05:18:31.502639Z"
    }
   }
  },
  {
   "cell_type": "code",
   "outputs": [
    {
     "data": {
      "text/plain": "(torch.Size([339, 200]), torch.Size([5825, 3800]))"
     },
     "execution_count": 16,
     "metadata": {},
     "output_type": "execute_result"
    }
   ],
   "source": [
    "graph.ndata['x']['user'].shape, graph.ndata['x']['serv'].shape"
   ],
   "metadata": {
    "collapsed": false,
    "ExecuteTime": {
     "end_time": "2024-03-16T05:18:31.508215Z",
     "start_time": "2024-03-16T05:18:31.506254Z"
    }
   },
   "execution_count": 16
  },
  {
   "cell_type": "code",
   "execution_count": 17,
   "outputs": [
    {
     "data": {
      "text/plain": "(dict_keys(['x']), dict_keys(['RT']))"
     },
     "execution_count": 17,
     "metadata": {},
     "output_type": "execute_result"
    }
   ],
   "source": [
    "graph.ndata.keys(), graph.edata.keys()"
   ],
   "metadata": {
    "collapsed": false,
    "ExecuteTime": {
     "end_time": "2024-03-16T05:18:31.511394Z",
     "start_time": "2024-03-16T05:18:31.508810Z"
    }
   }
  },
  {
   "cell_type": "code",
   "execution_count": 18,
   "outputs": [
    {
     "data": {
      "text/plain": "(['sctx', 'serv', 'uctx', 'user'], dict_keys(['x']), dict_keys(['RT']))"
     },
     "execution_count": 18,
     "metadata": {},
     "output_type": "execute_result"
    }
   ],
   "source": [
    "graph.ntypes, graph.ndata.keys(), graph.edata.keys()"
   ],
   "metadata": {
    "collapsed": false,
    "ExecuteTime": {
     "end_time": "2024-03-16T05:18:31.521936Z",
     "start_time": "2024-03-16T05:18:31.511708Z"
    }
   }
  },
  {
   "cell_type": "code",
   "execution_count": 19,
   "outputs": [],
   "source": [
    "p = np.random.RandomState(seed=233).permutation(graph.number_of_edges('us'))\n",
    "\n",
    "trainsize = int(density * graph.number_of_edges('us'))\n",
    "trainIdx = p[: trainsize]\n",
    "testIdx = p[trainsize:][: trainsize]\n",
    "\n",
    "trainSubGraph = d.edge_subgraph(graph, edges={\n",
    "    ('uctx', 'cu', 'user'): np.arange(0, graph.number_of_edges('cu')),\n",
    "    ('user', 'uc', 'uctx'): np.arange(0, graph.number_of_edges('uc')),\n",
    "    ('sctx', 'cs', 'serv'): np.arange(0, graph.number_of_edges('cs')),\n",
    "    ('serv', 'sc', 'sctx'): np.arange(0, graph.number_of_edges('sc')),\n",
    "    ('user', 'us', 'serv'): trainIdx,\n",
    "    ('serv', 'su', 'user'): trainIdx},\n",
    ")\n",
    "\n",
    "testSubGraph = d.edge_subgraph(graph, edges={\n",
    "    ('uctx', 'cu', 'user'): np.arange(0, graph.number_of_edges('cu')),\n",
    "    ('user', 'uc', 'uctx'): np.arange(0, graph.number_of_edges('uc')),\n",
    "    ('sctx', 'cs', 'serv'): np.arange(0, graph.number_of_edges('cs')),\n",
    "    ('serv', 'sc', 'sctx'): np.arange(0, graph.number_of_edges('sc')),\n",
    "    ('user', 'us', 'serv'): testIdx,\n",
    "    ('serv', 'su', 'user'): testIdx},\n",
    ")\n",
    "trainGraph = trainSubGraph\n",
    "testGraph = testSubGraph"
   ],
   "metadata": {
    "collapsed": false,
    "ExecuteTime": {
     "end_time": "2024-03-16T05:18:31.578538Z",
     "start_time": "2024-03-16T05:18:31.516101Z"
    }
   }
  },
  {
   "cell_type": "code",
   "execution_count": 20,
   "outputs": [
    {
     "data": {
      "text/plain": "(Graph(num_nodes={'sctx': 3766, 'serv': 5825, 'uctx': 168, 'user': 339},\n       num_edges={('sctx', 'cs', 'serv'): 17475, ('serv', 'sc', 'sctx'): 17475, ('serv', 'su', 'user'): 18274, ('uctx', 'cu', 'user'): 678, ('user', 'uc', 'uctx'): 678, ('user', 'us', 'serv'): 18274},\n       metagraph=[('sctx', 'serv', 'cs'), ('serv', 'sctx', 'sc'), ('serv', 'user', 'su'), ('user', 'uctx', 'uc'), ('user', 'serv', 'us'), ('uctx', 'user', 'cu')]),\n Graph(num_nodes={'sctx': 3766, 'serv': 5825, 'uctx': 168, 'user': 339},\n       num_edges={('sctx', 'cs', 'serv'): 17475, ('serv', 'sc', 'sctx'): 17475, ('serv', 'su', 'user'): 18274, ('uctx', 'cu', 'user'): 678, ('user', 'uc', 'uctx'): 678, ('user', 'us', 'serv'): 18274},\n       metagraph=[('sctx', 'serv', 'cs'), ('serv', 'sctx', 'sc'), ('serv', 'user', 'su'), ('user', 'uctx', 'uc'), ('user', 'serv', 'us'), ('uctx', 'user', 'cu')]))"
     },
     "execution_count": 20,
     "metadata": {},
     "output_type": "execute_result"
    }
   ],
   "source": [
    "trainGraph, testGraph"
   ],
   "metadata": {
    "collapsed": false,
    "ExecuteTime": {
     "end_time": "2024-03-16T05:18:31.580016Z",
     "start_time": "2024-03-16T05:18:31.568076Z"
    }
   }
  },
  {
   "cell_type": "code",
   "execution_count": 21,
   "outputs": [
    {
     "name": "stderr",
     "output_type": "stream",
     "text": [
      "/Users/zengyuxiang/opt/anaconda3/lib/python3.8/site-packages/numpy/core/_methods.py:232: RuntimeWarning: overflow encountered in multiply\n",
      "  x = um.multiply(x, x, out=x)\n"
     ]
    }
   ],
   "source": [
    "from datasets import QoSDataSetV3\n",
    "\n",
    "trainset = QoSDataSetV3(trainGraph, True)"
   ],
   "metadata": {
    "collapsed": false,
    "ExecuteTime": {
     "end_time": "2024-03-16T05:18:31.773257Z",
     "start_time": "2024-03-16T05:18:31.571301Z"
    }
   }
  },
  {
   "cell_type": "markdown",
   "source": [
    "# Dataset内部探索"
   ],
   "metadata": {
    "collapsed": false
   }
  },
  {
   "cell_type": "code",
   "execution_count": 22,
   "outputs": [],
   "source": [
    "graph = trainGraph"
   ],
   "metadata": {
    "collapsed": false,
    "ExecuteTime": {
     "end_time": "2024-03-16T05:18:31.775479Z",
     "start_time": "2024-03-16T05:18:31.773206Z"
    }
   }
  },
  {
   "cell_type": "code",
   "execution_count": 23,
   "outputs": [
    {
     "data": {
      "text/plain": "Graph(num_nodes={'serv': 5825, 'user': 339},\n      num_edges={('serv', 'su', 'user'): 18274, ('user', 'us', 'serv'): 18274},\n      metagraph=[('serv', 'user', 'su'), ('user', 'serv', 'us')])"
     },
     "execution_count": 23,
     "metadata": {},
     "output_type": "execute_result"
    }
   ],
   "source": [
    "bipart = d.node_type_subgraph(graph, ['user', 'serv'])\n",
    "bipart"
   ],
   "metadata": {
    "collapsed": false,
    "ExecuteTime": {
     "end_time": "2024-03-16T05:18:31.794420Z",
     "start_time": "2024-03-16T05:18:31.779039Z"
    }
   }
  },
  {
   "cell_type": "code",
   "execution_count": 24,
   "outputs": [
    {
     "data": {
      "text/plain": "(tensor([  0,   1,   2,  ..., 324, 129,  98]),\n tensor([3105, 1843, 1054,  ..., 3143,  559, 1477]))"
     },
     "execution_count": 24,
     "metadata": {},
     "output_type": "execute_result"
    }
   ],
   "source": [
    "links = graph.all_edges(etype='us')\n",
    "links"
   ],
   "metadata": {
    "collapsed": false,
    "ExecuteTime": {
     "end_time": "2024-03-16T05:18:31.795673Z",
     "start_time": "2024-03-16T05:18:31.783316Z"
    }
   }
  },
  {
   "cell_type": "code",
   "execution_count": 25,
   "outputs": [
    {
     "data": {
      "text/plain": "tensor([0.4020, 7.7170, 0.3460,  ..., 0.3370, 0.1250, 0.7230])"
     },
     "execution_count": 25,
     "metadata": {},
     "output_type": "execute_result"
    }
   ],
   "source": [
    "labels = graph.edata['RT'][('user', 'us', 'serv')]\n",
    "labels"
   ],
   "metadata": {
    "collapsed": false,
    "ExecuteTime": {
     "end_time": "2024-03-16T05:18:31.842024Z",
     "start_time": "2024-03-16T05:18:31.787683Z"
    }
   }
  },
  {
   "cell_type": "code",
   "execution_count": 26,
   "outputs": [],
   "source": [
    "# 数据集获取全过程\n",
    "# centerUser, centerServ = int(self.links[0][idx]), int(self.links[1][idx])\n",
    "# label = self.labels[idx]\n",
    "# subgraph = self.extractSubgraph(graph=self.graph, u=centerUser, s=centerServ)\n",
    "# ngraph = self.extractNeighSubgraph(graph=self.graph, u=centerUser, s=centerServ)"
   ],
   "metadata": {
    "collapsed": false,
    "ExecuteTime": {
     "end_time": "2024-03-16T05:18:31.843Z",
     "start_time": "2024-03-16T05:18:31.807068Z"
    }
   }
  },
  {
   "cell_type": "markdown",
   "source": [
    "# 获取子图过程"
   ],
   "metadata": {
    "collapsed": false
   }
  },
  {
   "cell_type": "code",
   "execution_count": 27,
   "outputs": [],
   "source": [
    "idx = 0"
   ],
   "metadata": {
    "collapsed": false,
    "ExecuteTime": {
     "end_time": "2024-03-16T05:18:31.843944Z",
     "start_time": "2024-03-16T05:18:31.809031Z"
    }
   }
  },
  {
   "cell_type": "code",
   "outputs": [
    {
     "data": {
      "text/plain": "(0, 3105)"
     },
     "execution_count": 28,
     "metadata": {},
     "output_type": "execute_result"
    }
   ],
   "source": [
    "# 首先获得中心节点\n",
    "# graph=self.graph, u=centerUser, s=centerServ\n",
    "_fringeUsersCache = {}  # user邻居？\n",
    "_fringeServsCache = {}  # serv邻居？\n",
    "centerUser, centerServ = int(links[0][idx]), int(links[1][idx])\n",
    "u_fringe = centerUser\n",
    "v_fringe = centerServ\n",
    "u_fringe, v_fringe"
   ],
   "metadata": {
    "collapsed": false,
    "ExecuteTime": {
     "end_time": "2024-03-16T05:18:31.861217Z",
     "start_time": "2024-03-16T05:18:31.811644Z"
    }
   },
   "execution_count": 28
  },
  {
   "cell_type": "code",
   "execution_count": 29,
   "outputs": [],
   "source": [
    "user, serv = u_fringe, v_fringe\n",
    "if serv not in _fringeUsersCache:\n",
    "    neighUser = bipart.in_edges(serv, etype='us')[0]\n",
    "    _fringeUsersCache[serv] = neighUser\n",
    "neighUser = _fringeUsersCache[serv]\n",
    "neighUser = np.setdiff1d(neighUser, user)  # 从邻接用户节点的入边索引中移除已经存在的用户节点 user。"
   ],
   "metadata": {
    "collapsed": false,
    "ExecuteTime": {
     "end_time": "2024-03-16T05:18:31.862597Z",
     "start_time": "2024-03-16T05:18:31.815352Z"
    }
   }
  },
  {
   "cell_type": "code",
   "execution_count": 30,
   "outputs": [],
   "source": [
    "if user not in _fringeServsCache:\n",
    "    neighServ = graph.in_edges(user, etype='su')[0]\n",
    "    _fringeServsCache[user] = neighServ\n",
    "neighServ = _fringeServsCache[user]\n",
    "neighServ = np.setdiff1d(neighServ, serv)"
   ],
   "metadata": {
    "collapsed": false,
    "ExecuteTime": {
     "end_time": "2024-03-16T05:18:31.863642Z",
     "start_time": "2024-03-16T05:18:31.818576Z"
    }
   }
  },
  {
   "cell_type": "code",
   "execution_count": 31,
   "outputs": [
    {
     "data": {
      "text/plain": "({3105: tensor([  0, 135,  10, 328,  95,   3, 220, 237])},\n {0: tensor([3105, 1274, 1753, 5157, 4215, 2536, 4607, 1794, 2418, 4542, 2511, 4036,\n          3943, 5036,  783, 5419, 3426, 3906, 4948,  973, 4900,  124, 4422, 1448,\n          2928,  306, 3205, 1815, 4009, 5261,  236, 3179, 3940, 4569, 3603,  359,\n          1392, 2120, 1812, 1914])})"
     },
     "execution_count": 31,
     "metadata": {},
     "output_type": "execute_result"
    }
   ],
   "source": [
    "_fringeUsersCache, _fringeServsCache"
   ],
   "metadata": {
    "collapsed": false,
    "ExecuteTime": {
     "end_time": "2024-03-16T05:18:31.864680Z",
     "start_time": "2024-03-16T05:18:31.822300Z"
    }
   }
  },
  {
   "cell_type": "code",
   "execution_count": 32,
   "outputs": [
    {
     "data": {
      "text/plain": "(array([  3,  10,  95, 135, 220, 237, 328]),\n array([ 124,  236,  306,  359,  783,  973, 1274, 1392, 1448, 1753, 1794,\n        1812, 1815, 1914, 2120, 2418, 2511, 2536, 2928, 3179, 3205, 3426,\n        3603, 3906, 3940, 3943, 4009, 4036, 4215, 4422, 4542, 4569, 4607,\n        4900, 4948, 5036, 5157, 5261, 5419]))"
     },
     "execution_count": 32,
     "metadata": {},
     "output_type": "execute_result"
    }
   ],
   "source": [
    "neighUser, neighServ"
   ],
   "metadata": {
    "collapsed": false,
    "ExecuteTime": {
     "end_time": "2024-03-16T05:18:31.865667Z",
     "start_time": "2024-03-16T05:18:31.825238Z"
    }
   }
  },
  {
   "cell_type": "code",
   "outputs": [],
   "source": [],
   "metadata": {
    "collapsed": false
   }
  },
  {
   "cell_type": "code",
   "outputs": [
    {
     "data": {
      "text/plain": "(tensor([0]), tensor([  3,  10,  95, 135, 220, 237, 328]))"
     },
     "execution_count": 33,
     "metadata": {},
     "output_type": "execute_result"
    }
   ],
   "source": [
    "t.tensor([u_fringe]), t.from_numpy(neighUser)"
   ],
   "metadata": {
    "collapsed": false,
    "ExecuteTime": {
     "end_time": "2024-03-16T05:18:31.911259Z",
     "start_time": "2024-03-16T05:18:31.827974Z"
    }
   },
   "execution_count": 33
  },
  {
   "cell_type": "code",
   "execution_count": 34,
   "outputs": [
    {
     "data": {
      "text/plain": "(tensor([  0,   3,  10,  95, 135, 220, 237, 328]),\n tensor([3105,  124,  236,  306,  359,  783,  973, 1274, 1392, 1448, 1753, 1794,\n         1812, 1815, 1914, 2120, 2418, 2511, 2536, 2928, 3179, 3205, 3426, 3603,\n         3906, 3940, 3943, 4009, 4036, 4215, 4422, 4542, 4569, 4607, 4900, 4948,\n         5036, 5157, 5261, 5419]))"
     },
     "execution_count": 34,
     "metadata": {},
     "output_type": "execute_result"
    }
   ],
   "source": [
    "# 构建子图的节点集合\n",
    "u_nodes = t.cat((t.tensor([u_fringe]), t.from_numpy(neighUser)))\n",
    "v_nodes = t.cat((t.tensor([v_fringe]), t.from_numpy(neighServ)))\n",
    "u_nodes, v_nodes"
   ],
   "metadata": {
    "collapsed": false,
    "ExecuteTime": {
     "end_time": "2024-03-16T05:18:31.912344Z",
     "start_time": "2024-03-16T05:18:31.831325Z"
    }
   }
  },
  {
   "cell_type": "code",
   "execution_count": 35,
   "outputs": [
    {
     "data": {
      "text/plain": "Graph(num_nodes={'serv': 40, 'user': 8},\n      num_edges={('serv', 'su', 'user'): 48, ('user', 'us', 'serv'): 48},\n      metagraph=[('serv', 'user', 'su'), ('user', 'serv', 'us')])"
     },
     "execution_count": 35,
     "metadata": {},
     "output_type": "execute_result"
    }
   ],
   "source": [
    "# 从原始图中提取子图\n",
    "sg = d.node_subgraph(bipart, nodes={\n",
    "        'user': u_nodes,\n",
    "        'serv': v_nodes,\n",
    "})  # 子图的类型为d.DGLGraph\n",
    "sg"
   ],
   "metadata": {
    "collapsed": false,
    "ExecuteTime": {
     "end_time": "2024-03-16T05:18:31.913487Z",
     "start_time": "2024-03-16T05:18:31.834641Z"
    }
   }
  },
  {
   "cell_type": "code",
   "execution_count": 36,
   "outputs": [
    {
     "data": {
      "text/plain": "(tensor([0]), tensor([0]))"
     },
     "execution_count": 36,
     "metadata": {},
     "output_type": "execute_result"
    }
   ],
   "source": [
    "# 获取子图中用户节点的子图索引\n",
    "su = sg.nodes('user')[sg.ndata[d.NID]['user'] == u_fringe]\n",
    " # 获取子图中服务节点的子图索引\n",
    "sv = sg.nodes('serv')[sg.ndata[d.NID]['serv'] == v_fringe]\n",
    "su, sv"
   ],
   "metadata": {
    "collapsed": false,
    "ExecuteTime": {
     "end_time": "2024-03-16T05:18:31.927071Z",
     "start_time": "2024-03-16T05:18:31.840037Z"
    }
   }
  },
  {
   "cell_type": "code",
   "execution_count": 37,
   "outputs": [
    {
     "data": {
      "text/plain": "Graph(num_nodes={'serv': 40, 'user': 8},\n      num_edges={('serv', 'su', 'user'): 48, ('user', 'us', 'serv'): 48},\n      metagraph=[('serv', 'user', 'su'), ('user', 'serv', 'us')])"
     },
     "execution_count": 37,
     "metadata": {},
     "output_type": "execute_result"
    }
   ],
   "source": [
    "# 为子图节点添加'label'属性，初始值为全1\n",
    "sg.ndata['label'] = {\n",
    "    'user': t.ones(sg.number_of_nodes('user')),\n",
    "    'serv': t.ones(sg.number_of_nodes('serv'))\n",
    "}\n",
    "sg"
   ],
   "metadata": {
    "collapsed": false,
    "ExecuteTime": {
     "end_time": "2024-03-16T05:18:31.935758Z",
     "start_time": "2024-03-16T05:18:31.846911Z"
    }
   }
  },
  {
   "cell_type": "code",
   "execution_count": 38,
   "outputs": [],
   "source": [
    "# 将用户fringe的'label'值设为0\n",
    "# 将服务fringe的'label'值设为0\n",
    "sg.ndata['label']['user'][su] = 0\n",
    "sg.ndata['label']['serv'][sv] = 0"
   ],
   "metadata": {
    "collapsed": false,
    "ExecuteTime": {
     "end_time": "2024-03-16T05:18:31.936758Z",
     "start_time": "2024-03-16T05:18:31.850968Z"
    }
   }
  },
  {
   "cell_type": "code",
   "execution_count": 39,
   "outputs": [],
   "source": [
    "# 根据用户和服务的子图索引，创建边的掩码\n",
    "mask_us_edge = sg.edge_ids(su, sv, etype='us')\n",
    "mask_su_edge = sg.edge_ids(sv, su, etype='su')"
   ],
   "metadata": {
    "collapsed": false,
    "ExecuteTime": {
     "end_time": "2024-03-16T05:18:31.937655Z",
     "start_time": "2024-03-16T05:18:31.854196Z"
    }
   }
  },
  {
   "cell_type": "code",
   "execution_count": 40,
   "outputs": [],
   "source": [
    "# 为边添加'mask'属性，初始值为全1\n",
    "sg.edges['us'].data['mask'] = t.ones(sg.number_of_edges(etype='us'))\n",
    "sg.edges['su'].data['mask'] = t.ones(sg.number_of_edges(etype='su'))"
   ],
   "metadata": {
    "collapsed": false,
    "ExecuteTime": {
     "end_time": "2024-03-16T05:18:31.939281Z",
     "start_time": "2024-03-16T05:18:31.860790Z"
    }
   }
  },
  {
   "cell_type": "code",
   "execution_count": 41,
   "outputs": [],
   "source": [
    "# 将用户和服务之间的边的'mask'值设为0\n",
    "sg.edges['us'].data['mask'][mask_us_edge] = 0\n",
    "sg.edges['su'].data['mask'][mask_su_edge] = 0\n"
   ],
   "metadata": {
    "collapsed": false,
    "ExecuteTime": {
     "end_time": "2024-03-16T05:18:31.951434Z",
     "start_time": "2024-03-16T05:18:31.863284Z"
    }
   }
  },
  {
   "cell_type": "code",
   "execution_count": 42,
   "outputs": [
    {
     "data": {
      "text/plain": "(0, 3105)"
     },
     "execution_count": 42,
     "metadata": {},
     "output_type": "execute_result"
    }
   ],
   "source": [
    "u_fringe = centerUser\n",
    "v_fringe = centerServ\n",
    "u_fringe, v_fringe"
   ],
   "metadata": {
    "collapsed": false,
    "ExecuteTime": {
     "end_time": "2024-03-16T05:18:31.956538Z",
     "start_time": "2024-03-16T05:18:31.865734Z"
    }
   }
  },
  {
   "cell_type": "code",
   "execution_count": 43,
   "outputs": [],
   "source": [
    "_neighUsersCache = {}\n",
    "_neighServsCache = {}"
   ],
   "metadata": {
    "collapsed": false,
    "ExecuteTime": {
     "end_time": "2024-03-16T05:18:31.957667Z",
     "start_time": "2024-03-16T05:18:31.868457Z"
    }
   }
  },
  {
   "cell_type": "code",
   "execution_count": 44,
   "outputs": [],
   "source": [
    "# 如果用户不在邻居用户缓存中\n",
    "if u_fringe not in _neighUsersCache:\n",
    "    # 获取用户的上下文节点（出边类型为'uc'）\n",
    "    uctxNodes = graph.out_edges(u_fringe, etype='uc')[1]\n",
    "\n",
    "    # 获取上下文节点的相邻用户（入边类型为'cu'）\n",
    "    neighUser = graph.out_edges(uctxNodes, etype='cu')[1]\n",
    "\n",
    "    # 从相邻用户中排除当前用户\n",
    "    neighUser = np.setdiff1d(neighUser, u_fringe)\n",
    "\n",
    "    # 将结果缓存到邻居用户缓存中\n",
    "    _neighUsersCache[u_fringe] = [uctxNodes, neighUser]\n",
    "\n",
    "# 从邻居用户缓存中获取上下文节点和相邻用户\n",
    "uctxNodes, neighUser = _neighUsersCache[u_fringe]\n",
    "\n",
    "# 设置邻居用户的采样大小\n",
    "neighSize = 35  # 或者设置为60\n",
    "\n",
    "# 如果相邻用户数量超过了采样大小\n",
    "if len(neighUser) > neighSize:\n",
    "    # 获取相邻用户的出边度数，并将度数归一化\n",
    "    degrees = graph.out_degrees(neighUser, etype='us').numpy()\n",
    "    sumd = np.sum(degrees)\n",
    "    degrees = degrees / sumd\n",
    "\n",
    "    # 计算非零度数的数量\n",
    "    non_zero = len(degrees[degrees > 0])\n",
    "\n",
    "    # 设置采样大小为邻居大小和非零度数的较小值\n",
    "    sample_size = min(neighSize, non_zero)\n",
    "\n",
    "    # 从相邻用户中随机采样一部分节点\n",
    "    neighUser = np.random.choice(neighUser, sample_size, replace=False, p=degrees)"
   ],
   "metadata": {
    "collapsed": false,
    "ExecuteTime": {
     "end_time": "2024-03-16T05:18:31.958617Z",
     "start_time": "2024-03-16T05:18:31.871808Z"
    }
   }
  },
  {
   "cell_type": "code",
   "execution_count": 45,
   "outputs": [],
   "source": [
    "if v_fringe not in _neighServsCache:\n",
    "    sctxNodes = graph.out_edges(v_fringe, etype='sc')[1]\n",
    "    neighServ = graph.out_edges(sctxNodes, etype='cs')[1]\n",
    "    neighServ = np.setdiff1d(neighServ, v_fringe)\n",
    "    _neighServsCache[v_fringe] = [sctxNodes, neighServ]\n",
    "sctxNodes, neighServ = _neighServsCache[v_fringe]\n",
    "neighSize = 85  # 300\n",
    "if len(neighServ) > neighSize:\n",
    "    degrees = graph.out_degrees(neighServ, etype='su').numpy()\n",
    "    sumd = np.sum(degrees)\n",
    "    degrees = degrees / sumd\n",
    "    non_zero = len(degrees[degrees > 0])\n",
    "    sample_size = min(neighSize, non_zero)\n",
    "    neighServ = np.random.choice(\n",
    "        neighServ, sample_size, replace=False, p=degrees)"
   ],
   "metadata": {
    "collapsed": false,
    "ExecuteTime": {
     "end_time": "2024-03-16T05:18:31.959612Z",
     "start_time": "2024-03-16T05:18:31.876055Z"
    }
   }
  },
  {
   "cell_type": "code",
   "execution_count": 46,
   "outputs": [],
   "source": [
    "neighUsers = neighUser\n",
    "neighServs = neighServ"
   ],
   "metadata": {
    "collapsed": false,
    "ExecuteTime": {
     "end_time": "2024-03-16T05:18:31.960540Z",
     "start_time": "2024-03-16T05:18:31.882586Z"
    }
   }
  },
  {
   "cell_type": "code",
   "execution_count": 47,
   "outputs": [
    {
     "data": {
      "text/plain": "(array([296]),\n array([3036, 3129, 3114, 2694, 2783, 2700, 2989, 5600, 2820, 2777, 2834,\n        3005, 2936, 2802, 2710, 2693, 3127, 1405, 3043, 2947, 2943, 2716,\n        2995, 1410, 3054, 2755, 2875, 3115, 4067, 3093, 2950, 2728, 2922,\n        3097, 2690, 2769, 1269, 2927, 2957, 2773, 3081, 5597, 2831, 1409,\n        3092, 2846, 3116, 5254, 2848, 2697, 3104, 3004, 2939, 3047, 2824,\n        3142, 2873, 2708, 2916, 1089, 3141, 2951, 3028, 2797, 2847, 2754,\n        3011, 2914, 3074, 2825, 2992, 2775, 2770, 3021, 3040, 2713, 2774,\n        2785, 3110, 1412, 2771, 2839, 2733, 2968, 3061]))"
     },
     "execution_count": 47,
     "metadata": {},
     "output_type": "execute_result"
    }
   ],
   "source": [
    "neighUsers, neighServs"
   ],
   "metadata": {
    "collapsed": false,
    "ExecuteTime": {
     "end_time": "2024-03-16T05:18:32.007127Z",
     "start_time": "2024-03-16T05:18:31.885509Z"
    }
   }
  },
  {
   "cell_type": "code",
   "execution_count": 48,
   "outputs": [
    {
     "data": {
      "text/plain": "Graph(num_nodes={'serv': 85, 'user': 1},\n      num_edges={('serv', 'su', 'user'): 1, ('user', 'us', 'serv'): 1},\n      metagraph=[('serv', 'user', 'su'), ('user', 'serv', 'us')])"
     },
     "execution_count": 48,
     "metadata": {},
     "output_type": "execute_result"
    }
   ],
   "source": [
    "ngraph = d.node_subgraph(bipart, nodes={\n",
    "    'user': neighUsers,\n",
    "    'serv': neighServs\n",
    "})  # type:d.DGLGraph\n",
    "ngraph"
   ],
   "metadata": {
    "collapsed": false,
    "ExecuteTime": {
     "end_time": "2024-03-16T05:18:32.008768Z",
     "start_time": "2024-03-16T05:18:31.888160Z"
    }
   }
  },
  {
   "cell_type": "code",
   "execution_count": 49,
   "outputs": [
    {
     "data": {
      "text/plain": "{'x': tensor([[0., 0., 0., 0., 0., 0., 0., 0., 0., 0., 0., 0., 0., 0., 0., 0., 0., 0.,\n         0., 0., 0., 0., 0., 0., 0., 0., 0., 0., 0., 0., 0., 0., 0., 0., 0., 0.,\n         0., 0., 0., 0., 0., 0., 0., 0., 0., 0., 0., 0., 0., 0., 0., 0., 0., 0.,\n         0., 0., 0., 0., 0., 0., 0., 0., 0., 0., 0., 0., 0., 0., 0., 0., 0., 0.,\n         0., 0., 0., 0., 0., 0., 0., 0., 0., 0., 0., 0., 0., 0., 0., 0., 0., 0.,\n         0., 0., 0., 0., 0., 0., 0., 0., 0., 0., 0., 0., 0., 0., 0., 0., 0., 0.,\n         0., 0., 0., 0., 0., 0., 1., 0., 0., 0., 0., 0., 0., 0., 0., 0., 0., 0.,\n         0., 0., 0., 0., 0., 0., 0., 0., 0., 0., 1., 0., 0., 0., 0., 0., 0., 0.,\n         0., 0., 0., 0., 0., 0., 0., 0., 0., 0., 0., 0., 0., 0., 0., 0., 0., 0.,\n         0., 0., 0., 0., 0., 0., 0., 0., 0., 0., 0., 0., 0., 0., 0., 0., 0., 0.,\n         0., 0., 0., 0., 0., 0., 0., 0., 0., 0., 0., 0., 0., 0., 0., 0., 0., 0.,\n         0., 0.]]), '_ID': tensor([296])}"
     },
     "execution_count": 49,
     "metadata": {},
     "output_type": "execute_result"
    }
   ],
   "source": [
    "ngraph.nodes['user'].data"
   ],
   "metadata": {
    "collapsed": false,
    "ExecuteTime": {
     "end_time": "2024-03-16T05:18:32.009887Z",
     "start_time": "2024-03-16T05:18:31.892647Z"
    }
   }
  },
  {
   "cell_type": "code",
   "execution_count": 50,
   "outputs": [],
   "source": [
    "ufeats = t.nn.Linear(200, 64, bias = False)\n",
    "sfeats = t.nn.Linear(3800, 64, bias = False)\n",
    "usermsg = t.nn.Linear(64 + 1, 64, bias=True)\n",
    "servmsg = t.nn.Linear(64 + 1, 64, bias=True)"
   ],
   "metadata": {
    "collapsed": false,
    "ExecuteTime": {
     "end_time": "2024-03-16T05:18:32.048272Z",
     "start_time": "2024-03-16T05:18:31.896823Z"
    }
   }
  },
  {
   "cell_type": "code",
   "execution_count": 51,
   "outputs": [
    {
     "data": {
      "text/plain": "Graph(num_nodes={'serv': 85, 'user': 1},\n      num_edges={('serv', 'su', 'user'): 1, ('user', 'us', 'serv'): 1},\n      metagraph=[('serv', 'user', 'su'), ('user', 'serv', 'us')])"
     },
     "execution_count": 51,
     "metadata": {},
     "output_type": "execute_result"
    }
   ],
   "source": [
    "ngraph.nodes['user'].data['in'] = ufeats(ngraph.nodes['user'].data['x'])\n",
    "ngraph.nodes['serv'].data['in'] = sfeats(ngraph.nodes['serv'].data['x'])\n",
    "ngraph"
   ],
   "metadata": {
    "collapsed": false,
    "ExecuteTime": {
     "end_time": "2024-03-16T05:18:32.055802Z",
     "start_time": "2024-03-16T05:18:31.956301Z"
    }
   }
  },
  {
   "cell_type": "code",
   "execution_count": 52,
   "outputs": [
    {
     "data": {
      "text/plain": "torch.Size([1, 64])"
     },
     "execution_count": 52,
     "metadata": {},
     "output_type": "execute_result"
    }
   ],
   "source": [
    "ngraph.nodes['user'].data['in'].shape"
   ],
   "metadata": {
    "collapsed": false,
    "ExecuteTime": {
     "end_time": "2024-03-16T05:18:32.056886Z",
     "start_time": "2024-03-16T05:18:31.972745Z"
    }
   }
  },
  {
   "cell_type": "code",
   "execution_count": 53,
   "outputs": [
    {
     "data": {
      "text/plain": "(EdgeSpace(data={'RT': tensor([0.7000]), '_ID': tensor([15717])}),\n EdgeSpace(data={'RT': tensor([0.7000]), '_ID': tensor([15717])}))"
     },
     "execution_count": 53,
     "metadata": {},
     "output_type": "execute_result"
    }
   ],
   "source": [
    "ngraph.edges['us'], ngraph.edges['su']"
   ],
   "metadata": {
    "collapsed": false,
    "ExecuteTime": {
     "end_time": "2024-03-16T05:18:32.057990Z",
     "start_time": "2024-03-16T05:18:31.975529Z"
    }
   }
  },
  {
   "cell_type": "code",
   "execution_count": 54,
   "outputs": [],
   "source": [
    "def userToServ(edges):\n",
    "    # 提取源节点（用户）的特征和边的属性\n",
    "    userEmbs = edges.src['in']\n",
    "    attrQoS = edges.data['RT'].reshape((-1, 1))\n",
    "    # 将用户特征和边属性连接\n",
    "    input = t.cat((userEmbs, attrQoS), -1)\n",
    "    # 计算用户消息\n",
    "    eventMsg = usermsg(input)\n",
    "    return {'eventMsg': eventMsg}\n",
    "def servToUser(edges):\n",
    "    # 提取源节点（服务）的特征和边的属性\n",
    "    servEmbs = edges.src['in']\n",
    "    attrQoS = edges.data['RT'].reshape((-1, 1))\n",
    "    # 将服务特征和边属性连接\n",
    "    input = t.cat((servEmbs, attrQoS), -1)\n",
    "    # 计算服务消息\n",
    "    eventMsg = servmsg(input)\n",
    "    return {'eventMsg': eventMsg}"
   ],
   "metadata": {
    "collapsed": false,
    "ExecuteTime": {
     "end_time": "2024-03-16T05:18:32.059235Z",
     "start_time": "2024-03-16T05:18:31.980395Z"
    }
   }
  },
  {
   "cell_type": "code",
   "execution_count": 55,
   "outputs": [],
   "source": [
    "import dgl.function as fn\n",
    "ngraph.update_all(userToServ, fn.mean('eventMsg', 'out'), etype='us')\n",
    "ngraph.update_all(servToUser, fn.mean('eventMsg', 'out'), etype='su')"
   ],
   "metadata": {
    "collapsed": false,
    "ExecuteTime": {
     "end_time": "2024-03-16T05:18:32.065486Z",
     "start_time": "2024-03-16T05:18:31.982937Z"
    }
   }
  },
  {
   "cell_type": "code",
   "execution_count": 56,
   "outputs": [
    {
     "data": {
      "text/plain": "defaultdict(<class 'dict'>, {'RT': {('serv', 'su', 'user'): tensor([0.7000]), ('user', 'us', 'serv'): tensor([0.7000])}, '_ID': {('serv', 'su', 'user'): tensor([15717]), ('user', 'us', 'serv'): tensor([15717])}})"
     },
     "execution_count": 56,
     "metadata": {},
     "output_type": "execute_result"
    }
   ],
   "source": [
    "ngraph.edata"
   ],
   "metadata": {
    "collapsed": false,
    "ExecuteTime": {
     "end_time": "2024-03-16T05:18:32.112556Z",
     "start_time": "2024-03-16T05:18:31.991465Z"
    }
   }
  },
  {
   "cell_type": "code",
   "execution_count": 57,
   "outputs": [
    {
     "data": {
      "text/plain": "(tensor([[-0.0448,  0.0818, -0.1059,  0.0483, -0.0321,  0.1828, -0.0733,  0.0279,\n           0.0243, -0.0476, -0.0520,  0.0495,  0.0858, -0.0320, -0.0951, -0.0049,\n          -0.1588, -0.0621,  0.0542,  0.1143,  0.1258,  0.1442,  0.0360, -0.0095,\n          -0.1123, -0.0961,  0.0035, -0.0865,  0.1234,  0.0400,  0.0220, -0.0367,\n           0.0459, -0.0538,  0.0623, -0.0171, -0.1022,  0.0766,  0.0429, -0.0059,\n          -0.1453,  0.1296,  0.0614, -0.0144,  0.0076,  0.0210,  0.0411, -0.0329,\n           0.0393, -0.0726, -0.1484,  0.0178, -0.0264, -0.0008, -0.0035,  0.0479,\n          -0.0947,  0.0579, -0.0064,  0.0513,  0.0480, -0.0874, -0.0459,  0.0234]],\n        grad_fn=<DivBackward0>),\n torch.Size([1, 64]))"
     },
     "execution_count": 57,
     "metadata": {},
     "output_type": "execute_result"
    }
   ],
   "source": [
    "user_read_out = d.readout_nodes(ngraph, 'out', ntype = 'user', op = 'mean')\n",
    "user_read_out, user_read_out.shape"
   ],
   "metadata": {
    "collapsed": false,
    "ExecuteTime": {
     "end_time": "2024-03-16T05:18:32.113936Z",
     "start_time": "2024-03-16T05:18:31.995178Z"
    }
   }
  },
  {
   "cell_type": "code",
   "execution_count": 58,
   "outputs": [
    {
     "data": {
      "text/plain": "torch.Size([1, 64])"
     },
     "execution_count": 58,
     "metadata": {},
     "output_type": "execute_result"
    }
   ],
   "source": [
    "act = t.nn.LeakyReLU()\n",
    "user_readout = act(d.readout_nodes(ngraph, 'out', ntype='user', op='mean'))\n",
    "serv_readout = act(d.readout_nodes(ngraph, 'out', ntype='serv', op='mean'))\n",
    "serv_readout.shape"
   ],
   "metadata": {
    "collapsed": false,
    "ExecuteTime": {
     "end_time": "2024-03-16T05:18:32.114895Z",
     "start_time": "2024-03-16T05:18:32.000329Z"
    }
   }
  },
  {
   "cell_type": "code",
   "execution_count": 59,
   "outputs": [
    {
     "data": {
      "text/plain": "torch.Size([1, 128])"
     },
     "execution_count": 59,
     "metadata": {},
     "output_type": "execute_result"
    }
   ],
   "source": [
    "user_serv_readout = t.cat((user_readout, serv_readout), -1)\n",
    "user_serv_readout.shape"
   ],
   "metadata": {
    "collapsed": false,
    "ExecuteTime": {
     "end_time": "2024-03-16T05:18:32.115821Z",
     "start_time": "2024-03-16T05:18:32.004776Z"
    }
   }
  },
  {
   "cell_type": "code",
   "execution_count": 60,
   "outputs": [
    {
     "data": {
      "text/plain": "\"\\ndef forward(self, batchGraph, neighGraph=None):\\n    ################################################################\\n    # Subgraph\\n\\n    # 初始化邻居的readout表示\\n    neigh_readout = None\\n\\n    # 将邻居用户节点特征进行线性变换，得到输入特征\\n    neighGraph.nodes['user'].data['in'] = self.ufeats(neighGraph.nodes['user'].data['x'])\\n\\n    # 将邻居服务节点特征进行线性变换，得到输入特征\\n    neighGraph.nodes['serv'].data['in'] = self.sfeats(neighGraph.nodes['serv'].data['x'])\\n\\n    # 使用SubGraphConv模块进行邻居图的计算，得到邻居的readout表示\\n    neigh_readout = self.neighbourEncoder(neighGraph)\\n\\n    ################################################################\\n    # Neighbor\\n\\n    # 将用户节点特征进行线性变换，得到输入特征\\n    batchGraph.nodes['user'].data['in'] = self.ufeats(batchGraph.nodes['user'].data['x'])\\n\\n    # 将服务节点特征进行线性变换，得到输入特征\\n    batchGraph.nodes['serv'].data['in'] = self.sfeats(batchGraph.nodes['serv'].data['x'])\\n\\n    # 使用Interaction模块进行用户和服务的交互，得到用户和服务的Embeddings\\n    UserEmbeds, ServEmbeds = self.interactionEncoder(batchGraph)\\n\\n    # 根据标签筛选用户和服务Embeddings\\n    users = batchGraph.ndata['label']['user'] == 0\\n    items = batchGraph.ndata['label']['serv'] == 0\\n\\n    # 拼接用户和服务Embeddings\\n    x = t.cat([UserEmbeds[users], ServEmbeds[items]], -1)\\n\\n    # 使用LinkPrediction模块进行链接预测\\n    rtLink = self.Link(x, neigh_readout)\\n\\n    # 返回链接预测结果\\n    return rtLink\\n\\n\""
     },
     "execution_count": 60,
     "metadata": {},
     "output_type": "execute_result"
    }
   ],
   "source": [
    "\n",
    "\"\"\"\n",
    "def forward(self, batchGraph, neighGraph=None):\n",
    "    ################################################################\n",
    "    # Subgraph\n",
    "\n",
    "    # 初始化邻居的readout表示\n",
    "    neigh_readout = None\n",
    "\n",
    "    # 将邻居用户节点特征进行线性变换，得到输入特征\n",
    "    neighGraph.nodes['user'].data['in'] = self.ufeats(neighGraph.nodes['user'].data['x'])\n",
    "\n",
    "    # 将邻居服务节点特征进行线性变换，得到输入特征\n",
    "    neighGraph.nodes['serv'].data['in'] = self.sfeats(neighGraph.nodes['serv'].data['x'])\n",
    "\n",
    "    # 使用SubGraphConv模块进行邻居图的计算，得到邻居的readout表示\n",
    "    neigh_readout = self.neighbourEncoder(neighGraph)\n",
    "\n",
    "    ################################################################\n",
    "    # Neighbor\n",
    "\n",
    "    # 将用户节点特征进行线性变换，得到输入特征\n",
    "    batchGraph.nodes['user'].data['in'] = self.ufeats(batchGraph.nodes['user'].data['x'])\n",
    "\n",
    "    # 将服务节点特征进行线性变换，得到输入特征\n",
    "    batchGraph.nodes['serv'].data['in'] = self.sfeats(batchGraph.nodes['serv'].data['x'])\n",
    "\n",
    "    # 使用Interaction模块进行用户和服务的交互，得到用户和服务的Embeddings\n",
    "    UserEmbeds, ServEmbeds = self.interactionEncoder(batchGraph)\n",
    "\n",
    "    # 根据标签筛选用户和服务Embeddings\n",
    "    users = batchGraph.ndata['label']['user'] == 0\n",
    "    items = batchGraph.ndata['label']['serv'] == 0\n",
    "\n",
    "    # 拼接用户和服务Embeddings\n",
    "    x = t.cat([UserEmbeds[users], ServEmbeds[items]], -1)\n",
    "\n",
    "    # 使用LinkPrediction模块进行链接预测\n",
    "    rtLink = self.Link(x, neigh_readout)\n",
    "\n",
    "    # 返回链接预测结果\n",
    "    return rtLink\n",
    "\n",
    "\"\"\""
   ],
   "metadata": {
    "collapsed": false,
    "ExecuteTime": {
     "end_time": "2024-03-16T05:18:32.128479Z",
     "start_time": "2024-03-16T05:18:32.008372Z"
    }
   }
  },
  {
   "cell_type": "code",
   "execution_count": 61,
   "outputs": [
    {
     "data": {
      "text/plain": "\"\\nclass SubGraphConv(t.nn.Module):\\n\\n    def __init__(self, dim, order=1, type='RT'):\\n        super(SubGraphConv, self).__init__()\\n\\n        # 初始化SubGraphConv模块\\n        self.order = order\\n        self.dim = dim\\n        self.type = type\\n\\n        # 用户消息传递线性层\\n        self.usermsg = t.nn.Linear(self.dim + 1, self.dim, bias=True)\\n\\n        # 服务消息传递线性层\\n        self.servmsg = t.nn.Linear(self.dim + 1, self.dim, bias=True)\\n\\n        # LeakyReLU激活函数\\n        self.act = t.nn.LeakyReLU()\\n\\n    def userToServ(self, edges):\\n        # 获取源节点（用户）的输入特征和边的属性\\n        userEmbs = edges.src['in']\\n        attrQoS = edges.data[self.type].reshape((-1, 1))\\n\\n        # 将用户Embedding和边的属性拼接\\n        input = t.cat((userEmbs, attrQoS), -1)\\n\\n        # 使用用户消息传递线性层\\n        eventMsg = self.usermsg(input)\\n\\n        return {'eventMsg': eventMsg}\\n\\n    def servToUser(self, edges):\\n        # 获取源节点（服务）的输入特征和边的属性\\n        servEmbs = edges.src['in']\\n        attrQoS = edges.data[self.type].reshape((-1, 1))\\n\\n        # 将服务Embedding和边的属性拼接\\n        input = t.cat((servEmbs, attrQoS), -1)\\n\\n        # 使用服务消息传递线性层\\n        eventMsg = self.servmsg(input)\\n\\n        return {'eventMsg': eventMsg}\\n\\n    def forward(self, bGraph):\\n        # 将输入的Batch图赋值给本地图对象\\n        graph = bGraph  # type:d.DGLGraph\\n\\n        # 用户到服务的消息传递\\n        graph.update_all(self.userToServ, fn.mean('eventMsg', 'out'), etype='us')\\n\\n        # 服务到用户的消息传递\\n        graph.update_all(self.servToUser, fn.mean('eventMsg', 'out'), etype='su')\\n\\n        # 读出用户节点和服务节点的消息，求均值并使用LeakyReLU激活函数\\n        user_readout = self.act(d.readout_nodes(graph, 'out', ntype='user', op='mean'))\\n        serv_readout = self.act(d.readout_nodes(graph, 'out', ntype='serv', op='mean'))\\n\\n        # 拼接用户和服务的读出结果\\n        user_serv_readout = t.cat((user_readout, serv_readout), -1)\\n\\n        # 返回用户和服务的读出结果\\n        return user_serv_readout\\n\\n\""
     },
     "execution_count": 61,
     "metadata": {},
     "output_type": "execute_result"
    }
   ],
   "source": [
    "\"\"\"\n",
    "class SubGraphConv(t.nn.Module):\n",
    "\n",
    "    def __init__(self, dim, order=1, type='RT'):\n",
    "        super(SubGraphConv, self).__init__()\n",
    "\n",
    "        # 初始化SubGraphConv模块\n",
    "        self.order = order\n",
    "        self.dim = dim\n",
    "        self.type = type\n",
    "\n",
    "        # 用户消息传递线性层\n",
    "        self.usermsg = t.nn.Linear(self.dim + 1, self.dim, bias=True)\n",
    "\n",
    "        # 服务消息传递线性层\n",
    "        self.servmsg = t.nn.Linear(self.dim + 1, self.dim, bias=True)\n",
    "\n",
    "        # LeakyReLU激活函数\n",
    "        self.act = t.nn.LeakyReLU()\n",
    "\n",
    "    def userToServ(self, edges):\n",
    "        # 获取源节点（用户）的输入特征和边的属性\n",
    "        userEmbs = edges.src['in']\n",
    "        attrQoS = edges.data[self.type].reshape((-1, 1))\n",
    "\n",
    "        # 将用户Embedding和边的属性拼接\n",
    "        input = t.cat((userEmbs, attrQoS), -1)\n",
    "\n",
    "        # 使用用户消息传递线性层\n",
    "        eventMsg = self.usermsg(input)\n",
    "\n",
    "        return {'eventMsg': eventMsg}\n",
    "\n",
    "    def servToUser(self, edges):\n",
    "        # 获取源节点（服务）的输入特征和边的属性\n",
    "        servEmbs = edges.src['in']\n",
    "        attrQoS = edges.data[self.type].reshape((-1, 1))\n",
    "\n",
    "        # 将服务Embedding和边的属性拼接\n",
    "        input = t.cat((servEmbs, attrQoS), -1)\n",
    "\n",
    "        # 使用服务消息传递线性层\n",
    "        eventMsg = self.servmsg(input)\n",
    "\n",
    "        return {'eventMsg': eventMsg}\n",
    "\n",
    "    def forward(self, bGraph):\n",
    "        # 将输入的Batch图赋值给本地图对象\n",
    "        graph = bGraph  # type:d.DGLGraph\n",
    "\n",
    "        # 用户到服务的消息传递\n",
    "        graph.update_all(self.userToServ, fn.mean('eventMsg', 'out'), etype='us')\n",
    "\n",
    "        # 服务到用户的消息传递\n",
    "        graph.update_all(self.servToUser, fn.mean('eventMsg', 'out'), etype='su')\n",
    "\n",
    "        # 读出用户节点和服务节点的消息，求均值并使用LeakyReLU激活函数\n",
    "        user_readout = self.act(d.readout_nodes(graph, 'out', ntype='user', op='mean'))\n",
    "        serv_readout = self.act(d.readout_nodes(graph, 'out', ntype='serv', op='mean'))\n",
    "\n",
    "        # 拼接用户和服务的读出结果\n",
    "        user_serv_readout = t.cat((user_readout, serv_readout), -1)\n",
    "\n",
    "        # 返回用户和服务的读出结果\n",
    "        return user_serv_readout\n",
    "\n",
    "\"\"\"\n"
   ],
   "metadata": {
    "collapsed": false,
    "ExecuteTime": {
     "end_time": "2024-03-16T05:18:32.138654Z",
     "start_time": "2024-03-16T05:18:32.010221Z"
    }
   }
  }
 ],
 "metadata": {
  "kernelspec": {
   "display_name": "Python 3",
   "language": "python",
   "name": "python3"
  },
  "language_info": {
   "codemirror_mode": {
    "name": "ipython",
    "version": 2
   },
   "file_extension": ".py",
   "mimetype": "text/x-python",
   "name": "python",
   "nbconvert_exporter": "python",
   "pygments_lexer": "ipython2",
   "version": "2.7.6"
  }
 },
 "nbformat": 4,
 "nbformat_minor": 0
}
